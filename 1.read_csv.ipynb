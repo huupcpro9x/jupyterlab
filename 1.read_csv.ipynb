{
 "cells": [
  {
   "cell_type": "code",
   "execution_count": 5,
   "id": "1a179e33-51b5-4475-9625-45630eb2bc4c",
   "metadata": {},
   "outputs": [
    {
     "name": "stdout",
     "output_type": "stream",
     "text": [
      "                                                                                                                                                                           \u0000\n",
      "\u0000N\u0000o\u0000d\u0000e\u0000 \u0000C\u0000a\u0000p\u0000t\u0000i\u0000o\u0000n\u0000                                    \u0000D\u0000e\u0000v\u0000i\u0000c\u0000e\u0000I\u0000D\u0000 \u0000M\u0000a\u0000x\u0000C\u0000l\u0000o\u0000c\u0000k\u0000S\u0000p\u0000e\u0000e\u0000d\u0000 \u0000N\u0000a\u0000m\u0000e\u0000                                           \u0000S\u0000t\u0000a\u0000t\u0000u\u0000s\u0000\n",
      "          NaN                                                NaN               NaN                         NaN                                                          None\n",
      "          \u0000I\u0000n\u0000t\u0000e\u0000l\u00006\u00004\u0000 \u0000F\u0000a\u0000m\u0000i\u0000l\u0000y\u0000 \u00006\u0000 \u0000M\u0000o\u0000d\u0000e\u0000l\u0000 \u0000... \u0000C\u0000P\u0000U\u00000\u0000         \u00003\u00006\u00000\u00000\u0000                   \u0000I\u0000n\u0000t\u0000e\u0000l\u0000(\u0000R\u0000)\u0000 \u0000C\u0000o\u0000r\u0000e\u0000(\u0000T\u0000M\u0000)\u0000 \u0000i\u00003\u0000-\u00001\u00000\u0000...          \u0000O\u0000K\u0000\n"
     ]
    }
   ],
   "source": [
    "# Cài đặt pandas\n",
    "# !pip install pandas\n",
    "import pandas as pd\n",
    "\n",
    "# Đọc file CSV, bỏ qua 3 dòng đầu tiên và sử dụng dòng thứ 4 làm header\n",
    "df = pd.read_csv('huu_cpu.csv', sep=',', skip_blank_lines=True, on_bad_lines='skip', engine='python')\n",
    "\n",
    "# Hiển thị 10 dòng đầu tiên\n",
    "print(df.head(10))"
   ]
  },
  {
   "cell_type": "code",
   "execution_count": null,
   "id": "f9d55f5b-b20c-48fe-9157-cd70624ca688",
   "metadata": {},
   "outputs": [],
   "source": []
  }
 ],
 "metadata": {
  "kernelspec": {
   "display_name": "Python 3 (ipykernel)",
   "language": "python",
   "name": "python3"
  },
  "language_info": {
   "codemirror_mode": {
    "name": "ipython",
    "version": 3
   },
   "file_extension": ".py",
   "mimetype": "text/x-python",
   "name": "python",
   "nbconvert_exporter": "python",
   "pygments_lexer": "ipython3",
   "version": "3.13.0"
  }
 },
 "nbformat": 4,
 "nbformat_minor": 5
}
